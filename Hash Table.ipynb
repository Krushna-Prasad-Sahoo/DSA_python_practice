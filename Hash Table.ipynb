{
 "cells": [
  {
   "cell_type": "code",
   "execution_count": 1,
   "id": "empty-palestinian",
   "metadata": {},
   "outputs": [],
   "source": [
    "import pprint\n",
    "\n",
    "\n",
    "class Hashtable:\n",
    "    def __init__(self, elements):\n",
    "        self.bucket_size = len(elements)\n",
    "        self.buckets = [[] for i in range(self.bucket_size)]\n",
    "        self._assign_buckets(elements)\n",
    "\n",
    "    def _assign_buckets(self, elements):\n",
    "        for key, value in elements:  # calculates the hash of each key\n",
    "            hashed_value = hash(key)\n",
    "            index = (\n",
    "                hashed_value % self.bucket_size\n",
    "            )  # positions the element in the bucket using hash\n",
    "            self.buckets[index].append((key, value))  # adds a tuple in the bucket\n",
    "\n",
    "    def get_value(self, input_key):\n",
    "        hashed_value = hash(input_key)\n",
    "        index = hashed_value % self.bucket_size\n",
    "        bucket = self.buckets[index]\n",
    "        for key, value in bucket:\n",
    "            if key == input_key:\n",
    "                return value\n",
    "        return None\n",
    "\n",
    "    def __str__(self):\n",
    "        return pprint.pformat(\n",
    "            self.buckets\n",
    "        )  # pformat returns a printable representation of the object\n",
    "\n",
    "\n",
    "if __name__ == \"__main__\":\n",
    "    capitals = [\n",
    "        (\"France\", \"Paris\"),\n",
    "        (\"United States\", \"Washington D.C.\"),\n",
    "        (\"Italy\", \"Rome\"),\n",
    "        (\"Canada\", \"Ottawa\"),\n",
    "    ]"
   ]
  },
  {
   "cell_type": "code",
   "execution_count": 2,
   "id": "demonstrated-planning",
   "metadata": {},
   "outputs": [
    {
     "name": "stdout",
     "output_type": "stream",
     "text": [
      "[[],\n",
      " [('France', 'Paris')],\n",
      " [('United States', 'Washington D.C.')],\n",
      " [('Italy', 'Rome'), ('Canada', 'Ottawa')]]\n",
      "The capital of Italy is Rome\n"
     ]
    }
   ],
   "source": [
    "hashtable = Hashtable(capitals)\n",
    "print(hashtable)\n",
    "print(f\"The capital of Italy is {hashtable.get_value('Italy')}\")"
   ]
  }
 ],
 "metadata": {
  "kernelspec": {
   "display_name": "Python 3",
   "language": "python",
   "name": "python3"
  },
  "language_info": {
   "codemirror_mode": {
    "name": "ipython",
    "version": 3
   },
   "file_extension": ".py",
   "mimetype": "text/x-python",
   "name": "python",
   "nbconvert_exporter": "python",
   "pygments_lexer": "ipython3",
   "version": "3.8.8"
  }
 },
 "nbformat": 4,
 "nbformat_minor": 5
}
